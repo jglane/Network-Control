{
 "cells": [
  {
   "cell_type": "code",
   "execution_count": 1,
   "metadata": {},
   "outputs": [
    {
     "name": "stderr",
     "output_type": "stream",
     "text": [
      "/home/jonat/.local/lib/python3.10/site-packages/matplotlib/projections/__init__.py:63: UserWarning: Unable to import Axes3D. This may be due to multiple versions of Matplotlib being installed (e.g. as a system package and as a pip package). As a result, the 3D projection is not available.\n",
      "  warnings.warn(\"Unable to import Axes3D. This may be due to multiple versions of \"\n"
     ]
    }
   ],
   "source": [
    "from sympy import *\n",
    "from sympy.physics.mechanics import *\n",
    "import numpy as np\n",
    "from scipy.integrate import solve_ivp\n",
    "import matplotlib.pyplot as plt\n",
    "from matplotlib import animation\n",
    "\n",
    "init_vprinting()"
   ]
  },
  {
   "cell_type": "code",
   "execution_count": 6,
   "metadata": {},
   "outputs": [
    {
     "data": {
      "image/png": "[encoded data removed]",
      "text/latex": [
       "$\\displaystyle \\left[\\begin{matrix}m_{1} + m_{2} + m_{3} & l_{1} m_{1} \\cos{\\left(q_{2} \\right)} & l_{2} m_{3} \\cos{\\left(q_{3} \\right)}\\\\l_{1} m_{1} \\cos{\\left(q_{2} \\right)} & l_{1}^{2} m_{1} & 0\\\\l_{2} m_{3} \\cos{\\left(q_{3} \\right)} & 0 & l_{2}^{2} m_{3}\\end{matrix}\\right]$"
      ],
      "text/plain": [
       "⎡m₁ + m₂ + m₃   l₁⋅m₁⋅cos(q₂)  l₂⋅m₃⋅cos(q₃)⎤\n",
       "⎢                                           ⎥\n",
       "⎢                    2                      ⎥\n",
       "⎢l₁⋅m₁⋅cos(q₂)     l₁ ⋅m₁            0      ⎥\n",
       "⎢                                           ⎥\n",
       "⎢                                   2       ⎥\n",
       "⎣l₂⋅m₃⋅cos(q₃)        0           l₂ ⋅m₃    ⎦"
      ]
     },
     "execution_count": 6,
     "metadata": {},
     "output_type": "execute_result"
    }
   ],
   "source": [
    "m1, m2, m3, l1, l2, g, t = symbols('m1 m2 m3 l1 l2 g t')\n",
    "q1, q2, q3 = dynamicsymbols('q1 q2 q3')\n",
    "\n",
    "p1 = Matrix([[q1 + l1*sin(q2)],\n",
    "             [-l1*cos(q2)]])\n",
    "p2 = Matrix([[q1],\n",
    "             [0]])\n",
    "p3 = Matrix([[q1 + l2*sin(q3)],\n",
    "             [-l2*cos(q3)]])\n",
    "\n",
    "dp1 = Matrix([[diff(p1, q1), diff(p1, q2), diff(p1, q3)]])\n",
    "dp2 = Matrix([[diff(p2, q1), diff(p2, q2), diff(p2, q3)]])\n",
    "dp3 = Matrix([[diff(p3, q1), diff(p3, q2), diff(p3, q3)]])\n",
    "\n",
    "M = simplify(m1*dp1.T*dp1 + m2*dp2.T*dp2 + m3*dp3.T*dp3)\n",
    "M"
   ]
  }
 ],
 "metadata": {
  "kernelspec": {
   "display_name": "Python 3",
   "language": "python",
   "name": "python3"
  },
  "language_info": {
   "codemirror_mode": {
    "name": "ipython",
    "version": 3
   },
   "file_extension": ".py",
   "mimetype": "text/x-python",
   "name": "python",
   "nbconvert_exporter": "python",
   "pygments_lexer": "ipython3",
   "version": "3.10.12"
  }
 },
 "nbformat": 4,
 "nbformat_minor": 2
}
