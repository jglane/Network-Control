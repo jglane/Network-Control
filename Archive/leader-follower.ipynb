{
 "cells": [
  {
   "cell_type": "code",
   "execution_count": 1,
   "metadata": {},
   "outputs": [
    {
     "name": "stderr",
     "output_type": "stream",
     "text": [
      "/home/jonat/.local/lib/python3.10/site-packages/matplotlib/projections/__init__.py:63: UserWarning: Unable to import Axes3D. This may be due to multiple versions of Matplotlib being installed (e.g. as a system package and as a pip package). As a result, the 3D projection is not available.\n",
      "  warnings.warn(\"Unable to import Axes3D. This may be due to multiple versions of \"\n"
     ]
    }
   ],
   "source": [
    "import numpy as np\n",
    "from network_simulator_v2 import NetworkSimulatorV2\n",
    "\n",
    "m = np.array([1, 1, 1, 1])\n",
    "l = np.array([1, 2, 1])\n",
    "g = 9.81\n",
    "\n",
    "dt = 0.01\n",
    "tf = 20\n",
    "t = np.arange(0, tf, dt)\n",
    "\n",
    "Q_0 = np.array([[0, 2], [0, 1], [0, -1], [0, -2]])\n",
    "Q_dot_0 = np.array([[0, 0], [0, 0], [0, 0], [0, 0]])\n",
    "\n",
    "n = 4\n",
    "k = 3\n",
    "\n",
    "D_of_G = np.array([[ 1,  0,  0],\n",
    "                    [-1,  1,  0],\n",
    "                    [ 0, -1,  1],\n",
    "                    [ 0,  0, -1]]) # n x k\n",
    "\n",
    "kp = 50\n",
    "kd = 50\n",
    "\n",
    "theta_d = lambda t: np.pi/4*np.cos(np.pi/4*t)\n",
    "theta_d_dot = lambda t: -np.pi**2/16*np.sin(np.pi/4*t)\n",
    "theta_d_ddot = lambda t: -np.pi**3/64*np.cos(np.pi/4*t)\n",
    "Qe_d = lambda t: np.array([[l[0]*np.cos(theta_d(t)), l[0]*np.sin(theta_d(t))],\n",
    "                             [l[1]*np.cos(theta_d(t)), -l[1]*np.sin(theta_d(t))],\n",
    "                             [l[2]*np.cos(theta_d(t)), l[2]*np.sin(theta_d(t))]])\n",
    "Qe_d_dot = lambda t: np.array([[-l[0]*np.sin(theta_d(t))*theta_d_dot(t), l[0]*np.cos(theta_d(t))*theta_d_dot(t)],\n",
    "                                [-l[1]*np.sin(theta_d(t))*theta_d_dot(t), -l[1]*np.cos(theta_d(t))*theta_d_dot(t)],\n",
    "                                [-l[2]*np.sin(theta_d(t))*theta_d_dot(t), l[2]*np.cos(theta_d(t))*theta_d_dot(t)]])\n",
    "Qe_d_ddot = lambda t: np.array([[-l[0]*np.cos(theta_d(t))*theta_d_dot(t)**2 - l[0]*np.sin(theta_d(t))*theta_d_ddot(t), -l[0]*np.sin(theta_d(t))*theta_d_dot(t)**2 + l[0]*np.cos(theta_d(t))*theta_d_ddot(t)],\n",
    "                                [-l[1]*np.cos(theta_d(t))*theta_d_dot(t)**2 - l[1]*np.sin(theta_d(t))*theta_d_ddot(t), -l[1]*np.sin(theta_d(t))*theta_d_dot(t)**2 + l[1]*np.cos(theta_d(t))*theta_d_ddot(t)],\n",
    "                                [-l[2]*np.cos(theta_d(t))*theta_d_dot(t)**2 - l[2]*np.sin(theta_d(t))*theta_d_ddot(t), -l[2]*np.sin(theta_d(t))*theta_d_dot(t)**2 + l[2]*np.cos(theta_d(t))*theta_d_ddot(t)]])\n",
    "\n",
    "i_leader = 2\n",
    "r_leader_d = lambda t: np.array([-1, 0])\n",
    "r_leader_d_dot = lambda t: np.array([0, 0])\n",
    "r_leader_d_ddot = lambda t: np.array([0, 0])\n",
    "\n",
    "sim = NetworkSimulatorV2(n, k, m, l, g, D_of_G, dt, tf, Q_0, Q_dot_0, i_leader, r_leader_d, r_leader_d_dot, r_leader_d_ddot, Qe_d, Qe_d_dot, Qe_d_ddot, kp, kd)\n",
    "sim.run()\n",
    "# sim.generate_plots()\n",
    "sim.generate_animation(\"paper\", ((-3, 3), (-3, 3)))"
   ]
  }
 ],
 "metadata": {
  "kernelspec": {
   "display_name": "Python 3",
   "language": "python",
   "name": "python3"
  },
  "language_info": {
   "codemirror_mode": {
    "name": "ipython",
    "version": 3
   },
   "file_extension": ".py",
   "mimetype": "text/x-python",
   "name": "python",
   "nbconvert_exporter": "python",
   "pygments_lexer": "ipython3",
   "version": "3.10.12"
  }
 },
 "nbformat": 4,
 "nbformat_minor": 2
}
